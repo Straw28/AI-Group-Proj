{
  "nbformat": 4,
  "nbformat_minor": 0,
  "metadata": {
    "colab": {
      "provenance": []
    },
    "kernelspec": {
      "name": "python3",
      "display_name": "Python 3"
    },
    "language_info": {
      "name": "python"
    }
  },
  "cells": [
    {
      "cell_type": "code",
      "execution_count": null,
      "metadata": {
        "id": "5-hZyUyenDtf",
        "colab": {
          "base_uri": "https://localhost:8080/",
          "height": 246
        },
        "outputId": "bf4bae5d-d03e-485f-b45a-e8839493252a"
      },
      "outputs": [
        {
          "output_type": "error",
          "ename": "ValueError",
          "evalue": "ignored",
          "traceback": [
            "\u001b[0;31m---------------------------------------------------------------------------\u001b[0m",
            "\u001b[0;31mValueError\u001b[0m                                Traceback (most recent call last)",
            "\u001b[0;32m<ipython-input-2-851a3bc45df3>\u001b[0m in \u001b[0;36m<module>\u001b[0;34m\u001b[0m\n\u001b[1;32m     66\u001b[0m \u001b[0;31m#D: drop-off, P: pick-up, R: risky\u001b[0m\u001b[0;34m\u001b[0m\u001b[0;34m\u001b[0m\u001b[0m\n\u001b[1;32m     67\u001b[0m \u001b[0;34m\u001b[0m\u001b[0m\n\u001b[0;32m---> 68\u001b[0;31m \u001b[0mLayer_1\u001b[0m \u001b[0;34m=\u001b[0m \u001b[0mnp\u001b[0m\u001b[0;34m.\u001b[0m\u001b[0marray\u001b[0m\u001b[0;34m(\u001b[0m\u001b[0mLayer_1\u001b[0m\u001b[0;34m,\u001b[0m \u001b[0mdtype\u001b[0m \u001b[0;34m=\u001b[0m \u001b[0mint\u001b[0m\u001b[0;34m)\u001b[0m\u001b[0;34m.\u001b[0m\u001b[0mreshape\u001b[0m\u001b[0;34m(\u001b[0m\u001b[0;34m(\u001b[0m\u001b[0;36m3\u001b[0m\u001b[0;34m,\u001b[0m\u001b[0;36m3\u001b[0m\u001b[0;34m)\u001b[0m\u001b[0;34m)\u001b[0m\u001b[0;34m\u001b[0m\u001b[0;34m\u001b[0m\u001b[0m\n\u001b[0m\u001b[1;32m     69\u001b[0m \u001b[0mLayer_2\u001b[0m \u001b[0;34m=\u001b[0m \u001b[0mnp\u001b[0m\u001b[0;34m.\u001b[0m\u001b[0marray\u001b[0m\u001b[0;34m(\u001b[0m\u001b[0mLayer_2\u001b[0m\u001b[0;34m,\u001b[0m \u001b[0mdtype\u001b[0m \u001b[0;34m=\u001b[0m \u001b[0mint\u001b[0m\u001b[0;34m)\u001b[0m\u001b[0;34m.\u001b[0m\u001b[0mreshape\u001b[0m\u001b[0;34m(\u001b[0m\u001b[0;34m(\u001b[0m\u001b[0;36m3\u001b[0m\u001b[0;34m,\u001b[0m\u001b[0;36m3\u001b[0m\u001b[0;34m)\u001b[0m\u001b[0;34m)\u001b[0m\u001b[0;34m\u001b[0m\u001b[0;34m\u001b[0m\u001b[0m\n\u001b[1;32m     70\u001b[0m \u001b[0mLayer_3\u001b[0m \u001b[0;34m=\u001b[0m \u001b[0mnp\u001b[0m\u001b[0;34m.\u001b[0m\u001b[0marray\u001b[0m\u001b[0;34m(\u001b[0m\u001b[0mLayer_3\u001b[0m\u001b[0;34m,\u001b[0m \u001b[0mdtype\u001b[0m \u001b[0;34m=\u001b[0m \u001b[0mint\u001b[0m\u001b[0;34m)\u001b[0m\u001b[0;34m.\u001b[0m\u001b[0mreshape\u001b[0m\u001b[0;34m(\u001b[0m\u001b[0;34m(\u001b[0m\u001b[0;36m3\u001b[0m\u001b[0;34m,\u001b[0m\u001b[0;36m3\u001b[0m\u001b[0;34m)\u001b[0m\u001b[0;34m)\u001b[0m\u001b[0;34m\u001b[0m\u001b[0;34m\u001b[0m\u001b[0m\n",
            "\u001b[0;31mValueError\u001b[0m: invalid literal for int() with base 10: 'P'"
          ]
        }
      ],
      "source": [
        "import numpy as np\n",
        "from scipy.spatial.distance import cityblock\n",
        "\n",
        "class Agent:\n",
        "  def __init__(self, current_pos, other_pos, reward, have_block):\n",
        "    self.current_pos = current_pos \n",
        "    # the other agent's position\n",
        "    self.other_pos = other_pos\n",
        "    # cumulative\n",
        "    self.reward = reward\n",
        "    # boolean\n",
        "    self.have_block = have_block\n",
        "\n",
        "# parent class\n",
        "class Cell: \n",
        "  def __init__(self, num_blocks, location):\n",
        "    self.num_blocks = num_blocks\n",
        "    # location is a tuple of 3 ints\n",
        "    self.location = location\n",
        "\n",
        "# Pickup and DropOff are children classes of the Cell parent class\n",
        "class PickUp(Cell): \n",
        "  def __init__(self, num_blocks, location):\n",
        "    # super() automatically inherit the methods and properties from its parent\n",
        "    super().__init__(num_blocks, location) \n",
        "    # remaining\n",
        "    def is_valid(num_blocks):\n",
        "      return num_blocks != 0\n",
        "\n",
        "class DropOff(Cell): \n",
        "  def __init__(self, num_blocks, location):\n",
        "    super().__init__(num_blocks, location) \n",
        "    # capacity \n",
        "    def is_valid(num_blocks):\n",
        "      return num_blocks != 5\n",
        "\n",
        "var_alpha = 0.3\n",
        "var_lambda = 0.5\n",
        "\n",
        "# initialized\n",
        "fem_agent = Agent((1,1,1), (3,2,3), 0, 0) # her pos, his pos, reward, have_block\n",
        "male_agent = Agent((3,2,3), (1,1,1), 0, 0) \n",
        "# cells\n",
        "pickup1 = PickUp(10, (3,3,2)) # number of blocks currently held, location of the cells\n",
        "pickup2 = PickUp(10, (2,2,1))\n",
        "dropoff1 = DropOff(0, (1,1,3))\n",
        "dropoff2 = DropOff(0,(3,2,3))\n",
        "dropoff3 = DropOff(0,(1,1,2))\n",
        "dropoff4 = DropOff(0, (3,1,1))\n",
        "# Note that he indexes at one \n",
        "# risky:(2,2,2),(3,2,1)\n",
        "\n",
        "# our Q-table, initialized to 0 on purpose\n",
        "# Q-table has states as rows and acions/operators as columns\n",
        "# so will be bigger than 3*3\n",
        "# need to create state space first then Q table\n",
        "q_table = np.zeros((3,3), dtype=int, order='C')\n",
        "print(\"Q-Table\")\n",
        "print(q_table)\n",
        "\n",
        "# our environment based on the reward\n",
        "world = [[[-1, -1, -1], [-1, 14, -1], [14, -2, -1]], #1 \n",
        "         [[14, -1, -1], [-1, -2, -1], [-1, -1, 14]], #2\n",
        "         [[14, -1, -1], [-1, -1, -1], [-1, 14, -1]]] #3\n",
        "\n",
        "world = np.array(world)\n",
        "\n",
        "#pick up: +14, drop off: +14, risky: -2, path: -1\n",
        "\n",
        "Layer_1 = [[-1, -1, -1], [-1, 'P', -1], ['D', 'R', -1]]\n",
        "Layer_2 = [['D', -1, -1], [-1, 'R', -1], [-1, -1, 'P']]\n",
        "Layer_3 = [['D', -1, -1], [-1, -1, -1], [-1, 'D', -1]]\n",
        "\n",
        "#D: drop-off, P: pick-up, R: risky\n",
        "\n",
        "Layer_1 = np.array(Layer_1, dtype = int).reshape((3,3))\n",
        "Layer_2 = np.array(Layer_2, dtype = int).reshape((3,3))\n",
        "Layer_3 = np.array(Layer_3, dtype = int).reshape((3,3))\n",
        "print(Layer_1)\n",
        "print(Layer_2)\n",
        "print(Layer_3)\n",
        "\n",
        "\n",
        "# Manhattan distance formula: \n",
        "  # d = |x1 - x2| + |y1 - y2|\n",
        "# Luckily, scipy has a library to compute the City Block (Manhattan) distance.\n",
        "manhat_distance = cityblock(fem_agent.current_pos,male_agent.current_pos)\n",
        "print('Manhattan Distance between', fem_agent.current_pos, 'and', male_agent.current_pos, 'is', manhat_distance)\n"
      ]
    }
  ]
}